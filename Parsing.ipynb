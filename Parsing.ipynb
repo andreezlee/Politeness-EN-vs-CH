{
 "cells": [
  {
   "cell_type": "markdown",
   "metadata": {},
   "source": [
    "## Parsing the CSV File into Different Labels\n",
    "\n",
    "The original data from the CSV file contained hundreds of email samples rated by native and non-native speakers, rated from negative to positive 12, per the abstract. The recorded means contain the average scores as multiple ratings were given for each sample. The normalized values go from around negative to positive 3.\n",
    "\n",
    "### Labeling Schemes (Based on normalized scores)\n",
    "\n",
    "Binary (0 or 1): less than zero is \"impolite\", \"polite\" otherwise\n",
    "\n",
    "Strong Neutral (-1, 0, 1): adding a \"neutral\" tag for scores with an absolute value at most 0.25\n",
    "\n",
    "Weak Neutral (-1, 0, 1): extending \"neutral\" tagging to scores with an absolute value at most 0.75\n",
    "\n",
    "Scale of 5 (-2 to 2): set of five tags [\"very impolite\": score <= -1.5, \"impolite\": -1.5 < score < -0.25, \"neutral\": -0.25 <= score <= 0.25, \"polite\": 0.25 < score < 1.5, \"very polite\": score >= 1.5]"
   ]
  },
  {
   "cell_type": "code",
   "execution_count": 13,
   "metadata": {},
   "outputs": [],
   "source": [
    "# Helper function for labeling, specs defined by labeling schemes\n",
    "def getLabel(index, value):\n",
    "    if index == 0:\n",
    "        # Binary labeling\n",
    "        return 0 if value < 0 else 1\n",
    "    elif index == 1:\n",
    "        # Strong Neutral\n",
    "        return 0 if abs(value) <= 0.25 else (-1 if value < 0 else 1)\n",
    "    elif index == 2:\n",
    "        # Weak Neutral\n",
    "        return 0 if abs(value) <= 0.75 else (-1 if value < 0 else 1)\n",
    "    \n",
    "    # Labeling with Intermediates\n",
    "    if value <= -1.5:\n",
    "        return -2\n",
    "    elif value >= 1.5:\n",
    "        return 2\n",
    "    return 0 if abs(value) <= 0.25 else (-1 if value < 0 else 1)    "
   ]
  },
  {
   "cell_type": "code",
   "execution_count": 14,
   "metadata": {},
   "outputs": [
    {
     "name": "stdout",
     "output_type": "stream",
     "text": [
      "0\n"
     ]
    }
   ],
   "source": [
    "import csv\n",
    "\n",
    "csv_file = open(\"RatingData - Sheet1.csv\", \"r\")\n",
    "csv_reader = csv.reader(csv_file)\n",
    "\n",
    "labels = ['ID', 'Message', 'NS', 'NNS']\n",
    "filenames = [\"BinaryLabeling.csv\", \"StrongNeutralLabeling.csv\",\n",
    "             \"WeakNeutralLabeling.csv\", \"IntermediateLabeling.csv\"]\n",
    "fileobjs = [open(\"LabeledData/\" + i, \"w\", newline='') for i in filenames]\n",
    "writers = [csv.writer(i) for i in fileobjs]\n",
    "for i in writers:\n",
    "    i.writerow(labels)\n",
    "\n",
    "bad_rows = 0\n",
    "next(csv_reader, None)\n",
    "for row in csv_reader:\n",
    "    # Check for errors in comma division in csv\n",
    "    if len(row) != 10:\n",
    "        bad_rows += 1\n",
    "    else:\n",
    "        # Grabbing normalized scores from csv\n",
    "        NS_score = float(row[4])\n",
    "        NNS_score = float(row[8])\n",
    "        \n",
    "        # Performing labeling\n",
    "        for i in range(4):\n",
    "            writers[i].writerow([row[0], row[1], getLabel(i, NS_score), getLabel(i, NNS_score)])\n",
    "for i in fileobjs:\n",
    "    i.close()\n",
    "print(bad_rows)"
   ]
  },
  {
   "cell_type": "code",
   "execution_count": null,
   "metadata": {},
   "outputs": [],
   "source": []
  }
 ],
 "metadata": {
  "kernelspec": {
   "display_name": "Python 3",
   "language": "python",
   "name": "python3"
  },
  "language_info": {
   "codemirror_mode": {
    "name": "ipython",
    "version": 3
   },
   "file_extension": ".py",
   "mimetype": "text/x-python",
   "name": "python",
   "nbconvert_exporter": "python",
   "pygments_lexer": "ipython3",
   "version": "3.7.9"
  }
 },
 "nbformat": 4,
 "nbformat_minor": 4
}
