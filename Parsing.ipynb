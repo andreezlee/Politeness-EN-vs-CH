{
 "cells": [
  {
   "cell_type": "markdown",
   "metadata": {},
   "source": [
    "## Parsing the CSV File into Different Labels\n",
    "\n",
    "The original data from the CSV file contained hundreds of email samples rated by native and non-native speakers, rated from negative to positive 12, per the abstract. The recorded means contain the average scores as multiple ratings were given for each sample. The normalized values go from around negative to positive 3.\n",
    "\n"
   ]
  },
  {
   "cell_type": "code",
   "execution_count": 1,
   "metadata": {},
   "outputs": [
    {
     "name": "stdout",
     "output_type": "stream",
     "text": [
      "Quintiles for native speaker ratings:\n",
      "-2.325316667\n",
      "-0.5821971667\n",
      "-0.11386675\n",
      "0.22728675\n",
      "0.5890204\n",
      "1.903856\n",
      "Quintiles for non-native speaker ratings:\n",
      "-2.3503525\n",
      "-0.5637466667\n",
      "-0.12146425\n",
      "0.1667982857\n",
      "0.60092275\n",
      "2.578638\n"
     ]
    }
   ],
   "source": [
    "import csv\n",
    "\n",
    "# Gathering quartiles for normalized scores\n",
    "csv_file_stats = open(\"RatingData - Sheet1.csv\", \"r\")\n",
    "csv_reader_stats = csv.reader(csv_file_stats)\n",
    "\n",
    "scores_ns = []\n",
    "scores_nns = []\n",
    "next(csv_reader_stats, None)\n",
    "for row in csv_reader_stats:\n",
    "    scores_ns.append(float(row[4]))\n",
    "    scores_nns.append(float(row[8]))\n",
    "csv_file_stats.close()\n",
    "scores_ns.sort()\n",
    "scores_nns.sort()\n",
    "\n",
    "partitions_ns = []\n",
    "print(\"Quintiles for native speaker ratings:\")\n",
    "for i in range(6):\n",
    "    p = scores_ns[int(i * (len(scores_ns) - 1)/5)]\n",
    "    partitions_ns.append(p)\n",
    "    print(p)\n",
    "\n",
    "partitions_nns = []\n",
    "print(\"Quintiles for non-native speaker ratings:\")\n",
    "for i in range(6):\n",
    "    p = scores_nns[int(i * (len(scores_nns) - 1)/5)]\n",
    "    partitions_nns.append(p)\n",
    "    print(p)"
   ]
  },
  {
   "cell_type": "code",
   "execution_count": 6,
   "metadata": {},
   "outputs": [
    {
     "name": "stdout",
     "output_type": "stream",
     "text": [
      "Scores by native speakers\n"
     ]
    },
    {
     "data": {
      "image/png": "[encoded data removed]",
      "text/plain": [
       "<Figure size 432x288 with 1 Axes>"
      ]
     },
     "metadata": {
      "needs_background": "light"
     },
     "output_type": "display_data"
    },
    {
     "name": "stdout",
     "output_type": "stream",
     "text": [
      "Scores by non-native speakers\n"
     ]
    },
    {
     "data": {
      "image/png": "[encoded data removed]",
      "text/plain": [
       "<Figure size 432x288 with 1 Axes>"
      ]
     },
     "metadata": {
      "needs_background": "light"
     },
     "output_type": "display_data"
    }
   ],
   "source": [
    "import matplotlib.pyplot as plt\n",
    "\n",
    "print(\"Scores by native speakers\")\n",
    "plt.hist(scores_ns, 20)\n",
    "plt.show()\n",
    "print(\"Scores by non-native speakers\")\n",
    "plt.hist(scores_nns, 20)\n",
    "plt.show()"
   ]
  },
  {
   "cell_type": "markdown",
   "metadata": {},
   "source": [
    "### Labeling Schemes (Based on normalized scores)\n",
    "\n",
    "Binary (0 or 1): less than zero is \"impolite\", \"polite\" otherwise\n",
    "\n",
    "Strong Neutral (-1, 0, 1): adding a \"neutral\" tag for scores with an absolute value at most 0.25\n",
    "\n",
    "Weak Neutral (-1, 0, 1): extending \"neutral\" tagging to scores with an absolute value at most 0.75\n",
    "\n",
    "Intermediate (-2 to 2): set of five tags [\"very impolite\": score <= -1.5, \"impolite\": -1.5 < score < -0.5, \"neutral\": -0.5 <= score <= 0.5, \"polite\": 0.5 < score < 1.5, \"very polite\": score >= 1.5]\n",
    "\n",
    "Partitions (-2 to 2): set of five tags like Intermediate, but using cutoffs defined by the quintiles"
   ]
  },
  {
   "cell_type": "code",
   "execution_count": 23,
   "metadata": {},
   "outputs": [],
   "source": [
    "# Helper function for labeling, specs defined by labeling schemes\n",
    "def getLabel(index, value, is_ns):\n",
    "    if index == 0:\n",
    "        # Binary labeling\n",
    "        return 0 if value < 0 else 1\n",
    "    elif index == 1:\n",
    "        # Strong Neutral\n",
    "        return 0 if abs(value) <= 0.25 else (-1 if value < 0 else 1)\n",
    "    elif index == 2:\n",
    "        # Weak Neutral\n",
    "        return 0 if abs(value) <= 0.75 else (-1 if value < 0 else 1)\n",
    "    elif index == 3:\n",
    "        # Labeling with Intermediates\n",
    "        if value <= -1.5:\n",
    "            return -2\n",
    "        elif value >= 1.5:\n",
    "            return 2\n",
    "        return 0 if abs(value) <= 0.5 else (-1 if value < 0 else 1)  \n",
    "    else:\n",
    "        # Labeling with Partitions\n",
    "        partitions = partitions_ns if is_ns else partitions_nns\n",
    "        if value <= partitions[1]:\n",
    "            return -2\n",
    "        elif value >= partitions[4]:\n",
    "            return 2\n",
    "        elif value <= partitions[2]:\n",
    "            return -1\n",
    "        elif value >= partitions[3]:\n",
    "            return 1\n",
    "        return 0 "
   ]
  },
  {
   "cell_type": "code",
   "execution_count": 24,
   "metadata": {},
   "outputs": [],
   "source": [
    "csv_file = open(\"RatingData - Sheet1.csv\", \"r\")\n",
    "csv_reader = csv.reader(csv_file)\n",
    "\n",
    "labels = ['ID', 'Message', 'NS', 'NNS']\n",
    "filenames = [\"BinaryLabeling.csv\", \"StrongNeutralLabeling.csv\",\n",
    "             \"WeakNeutralLabeling.csv\", \"IntermediateLabeling.csv\",\n",
    "             \"PartitionsLabeling.csv\"]\n",
    "fileobjs = [open(\"LabeledData/\" + i, \"w\", newline='') for i in filenames]\n",
    "writers = [csv.writer(i) for i in fileobjs]\n",
    "\n",
    "# Gather statistics for each labeling scheme\n",
    "counts_ns = [{} for i in filenames]\n",
    "counts_nns = [{} for i in filenames]"
   ]
  },
  {
   "cell_type": "code",
   "execution_count": 25,
   "metadata": {},
   "outputs": [
    {
     "name": "stdout",
     "output_type": "stream",
     "text": [
      "Error rows:\n",
      "0\n",
      "\n",
      "\n",
      "\n",
      "BinaryLabeling.csv\n",
      "Native speaker score frequencies:\n",
      "{0: 456, 1: 544}\n",
      "Non-native speaker score frequencies:\n",
      "{0: 482, 1: 518}\n",
      "\n",
      "\n",
      "StrongNeutralLabeling.csv\n",
      "Native speaker score frequencies:\n",
      "{-1: 332, 0: 278, 1: 390}\n",
      "Non-native speaker score frequencies:\n",
      "{0: 315, 1: 356, -1: 329}\n",
      "\n",
      "\n",
      "WeakNeutralLabeling.csv\n",
      "Native speaker score frequencies:\n",
      "{0: 714, -1: 146, 1: 140}\n",
      "Non-native speaker score frequencies:\n",
      "{0: 712, -1: 150, 1: 138}\n",
      "\n",
      "\n",
      "IntermediateLabeling.csv\n",
      "Native speaker score frequencies:\n",
      "{0: 536, -1: 195, -2: 30, 1: 225, 2: 14}\n",
      "Non-native speaker score frequencies:\n",
      "{0: 543, -1: 200, 1: 220, 2: 12, -2: 25}\n",
      "\n",
      "\n",
      "PartitionsLabeling.csv\n",
      "Native speaker score frequencies:\n",
      "{-1: 200, -2: 200, 0: 199, 2: 201, 1: 200}\n",
      "Non-native speaker score frequencies:\n",
      "{-1: 200, 1: 200, -2: 200, 2: 201, 0: 199}\n",
      "\n",
      "\n"
     ]
    }
   ],
   "source": [
    "for i in writers:\n",
    "    i.writerow(labels)\n",
    "\n",
    "bad_rows = 0\n",
    "next(csv_reader, None)\n",
    "for row in csv_reader:\n",
    "    # Check for errors in comma division in csv\n",
    "    if len(row) != 10:\n",
    "        bad_rows += 1\n",
    "    else:\n",
    "        # Grabbing normalized scores from csv\n",
    "        NS_score = float(row[4])\n",
    "        NNS_score = float(row[8])\n",
    "        \n",
    "        # Performing labeling\n",
    "        for i in range(len(filenames)):\n",
    "            ns = getLabel(i, NS_score, True)\n",
    "            nns = getLabel(i, NNS_score, False)\n",
    "            writers[i].writerow([row[0], row[1], ns, nns])\n",
    "            if ns in counts_ns[i]:\n",
    "                counts_ns[i][ns] += 1\n",
    "            else:\n",
    "                counts_ns[i][ns] = 1\n",
    "            if nns in counts_nns[i]:\n",
    "                counts_nns[i][nns] += 1\n",
    "            else:\n",
    "                counts_nns[i][nns] = 1\n",
    "csv_file.close()\n",
    "for i in fileobjs:\n",
    "    i.close()\n",
    "print(\"Error rows:\")\n",
    "print(bad_rows)\n",
    "print(\"\\n\\n\")\n",
    "for i in range(len(counts_ns)):\n",
    "    print(filenames[i])\n",
    "    print(\"Native speaker score frequencies:\")\n",
    "    print(counts_ns[i])\n",
    "    print(\"Non-native speaker score frequencies:\")\n",
    "    print(counts_nns[i])\n",
    "    print(\"\\n\")"
   ]
  },
  {
   "cell_type": "code",
   "execution_count": null,
   "metadata": {},
   "outputs": [],
   "source": []
  }
 ],
 "metadata": {
  "kernelspec": {
   "display_name": "Python 3",
   "language": "python",
   "name": "python3"
  },
  "language_info": {
   "codemirror_mode": {
    "name": "ipython",
    "version": 3
   },
   "file_extension": ".py",
   "mimetype": "text/x-python",
   "name": "python",
   "nbconvert_exporter": "python",
   "pygments_lexer": "ipython3",
   "version": "3.7.9"
  }
 },
 "nbformat": 4,
 "nbformat_minor": 4
}
